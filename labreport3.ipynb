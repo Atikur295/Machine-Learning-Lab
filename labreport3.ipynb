{
  "nbformat": 4,
  "nbformat_minor": 0,
  "metadata": {
    "colab": {
      "provenance": [],
      "authorship_tag": "ABX9TyN0eZ7+PMgeUwp/CRrY3Tv+",
      "include_colab_link": true
    },
    "kernelspec": {
      "name": "python3",
      "display_name": "Python 3"
    },
    "language_info": {
      "name": "python"
    }
  },
  "cells": [
    {
      "cell_type": "markdown",
      "metadata": {
        "id": "view-in-github",
        "colab_type": "text"
      },
      "source": [
        "<a href=\"https://colab.research.google.com/github/Atikur295/Machine-Learning-Lab/blob/main/labreport3.ipynb\" target=\"_parent\"><img src=\"https://colab.research.google.com/assets/colab-badge.svg\" alt=\"Open In Colab\"/></a>"
      ]
    },
    {
      "cell_type": "code",
      "execution_count": 1,
      "metadata": {
        "id": "sEecSheBNrPK"
      },
      "outputs": [],
      "source": [
        "import numpy as np\n",
        "import matplotlib.pyplot as plt\n"
      ]
    },
    {
      "cell_type": "code",
      "source": [
        "# Sigmoid activation\n",
        "def sigmoid(x):\n",
        "    return 1 / (1 + np.exp(-x))\n",
        "\n",
        "def sigmoid_derivative(x):\n",
        "    return x * (1 - x)   # assuming input is sigmoid(x)\n",
        "\n",
        "# ReLU activation\n",
        "def relu(x):\n",
        "    return np.maximum(0, x)\n",
        "\n",
        "def relu_derivative(x):\n",
        "    return np.where(x > 0, 1, 0)\n"
      ],
      "metadata": {
        "id": "9kuC6Y4nNyqz"
      },
      "execution_count": 2,
      "outputs": []
    },
    {
      "cell_type": "code",
      "source": [
        "class MLP:\n",
        "    def __init__(self, input_size=2, hidden_size=2, output_size=1, activation=\"sigmoid\", lr=0.1):\n",
        "        # Initialize weights\n",
        "        self.W1 = np.random.randn(input_size, hidden_size) * 0.1\n",
        "        self.b1 = np.zeros((1, hidden_size))\n",
        "        self.W2 = np.random.randn(hidden_size, output_size) * 0.1\n",
        "        self.b2 = np.zeros((1, output_size))\n",
        "\n",
        "        # Choose activation\n",
        "        if activation == \"sigmoid\":\n",
        "            self.activation = sigmoid\n",
        "            self.activation_derivative = sigmoid_derivative\n",
        "        elif activation == \"relu\":\n",
        "            self.activation = relu\n",
        "            self.activation_derivative = relu_derivative\n",
        "        else:\n",
        "            raise ValueError(\"Activation must be 'sigmoid' or 'relu'\")\n",
        "\n",
        "        self.lr = lr\n",
        "\n",
        "    def forward(self, X):\n",
        "        # Hidden layer\n",
        "        self.z1 = X @ self.W1 + self.b1\n",
        "        self.a1 = self.activation(self.z1)\n",
        "\n",
        "        # Output layer (sigmoid)\n",
        "        self.z2 = self.a1 @ self.W2 + self.b2\n",
        "        self.a2 = sigmoid(self.z2)\n",
        "        return self.a2\n",
        "\n",
        "    def backward(self, X, y):\n",
        "        m = X.shape[0]  # batch size\n",
        "\n",
        "        # Error at output\n",
        "        error = self.a2 - y\n",
        "        dZ2 = error * sigmoid_derivative(self.a2)\n",
        "\n",
        "        # Gradients for W2, b2\n",
        "        dW2 = self.a1.T @ dZ2 / m\n",
        "        db2 = np.sum(dZ2, axis=0, keepdims=True) / m\n",
        "\n",
        "        # Error at hidden layer\n",
        "        dA1 = dZ2 @ self.W2.T\n",
        "        dZ1 = dA1 * self.activation_derivative(self.a1)\n",
        "\n",
        "        # Gradients for W1, b1\n",
        "        dW1 = X.T @ dZ1 / m\n",
        "        db1 = np.sum(dZ1, axis=0, keepdims=True) / m\n",
        "\n",
        "        # Update weights\n",
        "        self.W1 -= self.lr * dW1\n",
        "        self.b1 -= self.lr * db1\n",
        "        self.W2 -= self.lr * dW2\n",
        "        self.b2 -= self.lr * db2\n",
        "\n",
        "    def train(self, X, y, iterations=1000):\n",
        "        losses = []\n",
        "        for i in range(iterations):\n",
        "            output = self.forward(X)\n",
        "            loss = np.mean((y - output) ** 2)  # MSE\n",
        "            self.backward(X, y)\n",
        "            losses.append(loss)\n",
        "        return losses\n",
        "\n",
        "    def predict(self, X):\n",
        "        return (self.forward(X) > 0.5).astype(int)\n"
      ],
      "metadata": {
        "id": "sql56clbN3Q2"
      },
      "execution_count": 3,
      "outputs": []
    },
    {
      "cell_type": "code",
      "source": [
        "def accuracy(y_true, y_pred):\n",
        "    return np.mean(y_true == y_pred)\n",
        "\n",
        "def precision(y_true, y_pred):\n",
        "    tp = np.sum((y_true == 1) & (y_pred == 1))\n",
        "    fp = np.sum((y_true == 0) & (y_pred == 1))\n",
        "    return tp / (tp + fp + 1e-8)\n",
        "\n",
        "def recall(y_true, y_pred):\n",
        "    tp = np.sum((y_true == 1) & (y_pred == 1))\n",
        "    fn = np.sum((y_true == 1) & (y_pred == 0))\n",
        "    return tp / (tp + fn + 1e-8)\n",
        "\n",
        "def f1_score(y_true, y_pred):\n",
        "    p = precision(y_true, y_pred)\n",
        "    r = recall(y_true, y_pred)\n",
        "    return 2 * (p * r) / (p + r + 1e-8)\n",
        "\n",
        "def plot_roc(y_true, y_scores):\n",
        "    thresholds = np.linspace(0, 1, 100)\n",
        "    tpr_list, fpr_list = [], []\n",
        "    for thresh in thresholds:\n",
        "        y_pred = (y_scores >= thresh).astype(int)\n",
        "        tp = np.sum((y_true == 1) & (y_pred == 1))\n",
        "        fp = np.sum((y_true == 0) & (y_pred == 1))\n",
        "        fn = np.sum((y_true == 1) & (y_pred == 0))\n",
        "        tn = np.sum((y_true == 0) & (y_pred == 0))\n",
        "\n",
        "        tpr = tp / (tp + fn + 1e-8)\n",
        "        fpr = fp / (fp + tn + 1e-8)\n",
        "        tpr_list.append(tpr)\n",
        "        fpr_list.append(fpr)\n",
        "\n",
        "    plt.plot(fpr_list, tpr_list, label=\"ROC Curve\")\n",
        "    plt.plot([0,1], [0,1], 'k--')\n",
        "    plt.xlabel(\"False Positive Rate\")\n",
        "    plt.ylabel(\"True Positive Rate\")\n",
        "    plt.legend()\n",
        "    plt.show()\n"
      ],
      "metadata": {
        "id": "RF3tNW-CN3Le"
      },
      "execution_count": 4,
      "outputs": []
    },
    {
      "cell_type": "code",
      "source": [
        "# XOR Problem\n",
        "X = np.array([[0,0],[0,1],[1,0],[1,1]])\n",
        "y = np.array([[0],[1],[1],[0]])\n",
        "\n",
        "# Try different learning rates, iterations, and activations\n",
        "mlp = MLP(activation=\"sigmoid\", lr=0.1)\n",
        "losses = mlp.train(X, y, iterations=5000)\n",
        "\n",
        "# Predictions\n",
        "y_pred = mlp.predict(X)\n",
        "\n",
        "print(\"Accuracy:\", accuracy(y, y_pred))\n",
        "print(\"Precision:\", precision(y, y_pred))\n",
        "print(\"Recall:\", recall(y, y_pred))\n",
        "print(\"F1-Score:\", f1_score(y, y_pred))\n",
        "\n",
        "# ROC curve\n",
        "y_scores = mlp.forward(X)\n",
        "plot_roc(y, y_scores)\n"
      ],
      "metadata": {
        "colab": {
          "base_uri": "https://localhost:8080/",
          "height": 518
        },
        "id": "PXwDRMTXOAbs",
        "outputId": "9fbab267-9bf9-474f-c1d1-b64c8ed98d5e"
      },
      "execution_count": 5,
      "outputs": [
        {
          "output_type": "stream",
          "name": "stdout",
          "text": [
            "Accuracy: 0.5\n",
            "Precision: 0.4999999975\n",
            "Recall: 0.4999999975\n",
            "F1-Score: 0.4999999925000001\n"
          ]
        },
        {
          "output_type": "display_data",
          "data": {
            "text/plain": [
              "<Figure size 640x480 with 1 Axes>"
            ],
            "image/png": "[encoded data removed]"
          },
          "metadata": {}
        }
      ]
    }
  ]
}