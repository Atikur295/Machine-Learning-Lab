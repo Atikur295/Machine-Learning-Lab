{
  "nbformat": 4,
  "nbformat_minor": 0,
  "metadata": {
    "colab": {
      "provenance": [],
      "authorship_tag": "ABX9TyOzGen1fADsQa2ofv8UwRGF",
      "include_colab_link": true
    },
    "kernelspec": {
      "name": "python3",
      "display_name": "Python 3"
    },
    "language_info": {
      "name": "python"
    }
  },
  "cells": [
    {
      "cell_type": "markdown",
      "metadata": {
        "id": "view-in-github",
        "colab_type": "text"
      },
      "source": [
        "<a href=\"https://colab.research.google.com/github/Atikur295/Machine-Learning-Lab/blob/main/Lab_report_2.ipynb\" target=\"_parent\"><img src=\"https://colab.research.google.com/assets/colab-badge.svg\" alt=\"Open In Colab\"/></a>"
      ]
    },
    {
      "cell_type": "code",
      "source": [
        "import numpy as np\n",
        "from collections import Counter\n",
        "\n",
        "class CustomKNN:\n",
        "    def __init__(self, k=3):\n",
        "        self.k = k\n",
        "\n",
        "    def fit(self, X_train, y_train):\n",
        "        self.X_train = np.array(X_train)\n",
        "        self.y_train = np.array(y_train)\n",
        "\n",
        "    def predict(self, X_test):\n",
        "        return [self._predict_point(x) for x in X_test]\n",
        "\n",
        "    def _predict_point(self, x):\n",
        "        distances = np.linalg.norm(self.X_train - x, axis=1)\n",
        "        k_indices = distances.argsort()[:self.k]\n",
        "        k_nearest_labels = self.y_train[k_indices]\n",
        "        most_common = Counter(k_nearest_labels).most_common(1)\n",
        "        return most_common[0][0]\n"
      ],
      "metadata": {
        "id": "khMD7edukcZQ"
      },
      "execution_count": 4,
      "outputs": []
    },
    {
      "cell_type": "code",
      "source": [
        "def accuracy(y_true, y_pred):\n",
        "    return np.mean(np.array(y_true) == np.array(y_pred))\n",
        "\n",
        "def confusion_matrix(y_true, y_pred):\n",
        "    labels = np.unique(y_true)\n",
        "    cm = np.zeros((len(labels), len(labels)), dtype=int)\n",
        "    label_to_index = {label: idx for idx, label in enumerate(labels)}\n",
        "    for true, pred in zip(y_true, y_pred):\n",
        "        cm[label_to_index[true]][label_to_index[pred]] += 1\n",
        "    return cm\n",
        "\n",
        "def precision_recall_f1(y_true, y_pred):\n",
        "    cm = confusion_matrix(y_true, y_pred)\n",
        "    TP = np.diag(cm)\n",
        "    FP = np.sum(cm, axis=0) - TP\n",
        "    FN = np.sum(cm, axis=1) - TP\n",
        "    precision = np.mean(TP / (TP + FP + 1e-10))\n",
        "    recall = np.mean(TP / (TP + FN + 1e-10))\n",
        "    f1 = 2 * precision * recall / (precision + recall + 1e-10)\n",
        "    return precision, recall, f1\n"
      ],
      "metadata": {
        "id": "Rky2RJQSkgwe"
      },
      "execution_count": 5,
      "outputs": []
    },
    {
      "cell_type": "code",
      "source": [
        "from sklearn.datasets import load_iris\n",
        "from sklearn.model_selection import train_test_split\n",
        "\n",
        "data = load_iris()\n",
        "X = data.data\n",
        "y = data.target\n",
        "\n",
        "X_train, X_test, y_train, y_test = train_test_split(X, y, test_size=0.3, random_state=42)\n"
      ],
      "metadata": {
        "id": "aBKuq4OQklVQ"
      },
      "execution_count": 8,
      "outputs": []
    },
    {
      "cell_type": "code",
      "source": [
        "# Train custom KNN\n",
        "model = CustomKNN(k=3)\n",
        "model.fit(X_train, y_train)\n",
        "y_pred = model.predict(X_test)\n",
        "\n",
        "# Evaluate using custom metrics\n",
        "acc = accuracy(y_test, y_pred)\n",
        "prec, rec, f1 = precision_recall_f1(y_test, y_pred)\n",
        "\n",
        "print(\"Accuracy:\", acc)\n",
        "print(\"Precision:\", prec)\n",
        "print(\"Recall:\", rec)\n",
        "print(\"F1-score:\", f1)\n"
      ],
      "metadata": {
        "colab": {
          "base_uri": "https://localhost:8080/"
        },
        "id": "Tkr34W-fk5TG",
        "outputId": "6d92159c-6618-495e-bd82-18245a313929"
      },
      "execution_count": 9,
      "outputs": [
        {
          "output_type": "stream",
          "name": "stdout",
          "text": [
            "Accuracy: 1.0\n",
            "Precision: 0.9999999999931175\n",
            "Recall: 0.9999999999931175\n",
            "F1-score: 0.9999999999431175\n"
          ]
        }
      ]
    },
    {
      "cell_type": "code",
      "source": [
        "def evaluate_knn_custom(X, y, k_values, split_ratios):\n",
        "    results = []\n",
        "    for split in split_ratios:\n",
        "        X_train, X_test, y_train, y_test = train_test_split(X, y, test_size=split, random_state=42)\n",
        "        for k in k_values:\n",
        "            model = CustomKNN(k)\n",
        "            model.fit(X_train, y_train)\n",
        "            y_pred = model.predict(X_test)\n",
        "            acc = accuracy(y_test, y_pred)\n",
        "            prec, rec, f1 = precision_recall_f1(y_test, y_pred)\n",
        "            results.append((k, split, acc, prec, rec, f1))\n",
        "    return results\n",
        "\n",
        "k_values = [1, 3, 5, 7]\n",
        "split_ratios = [0.2, 0.3, 0.4]\n",
        "results = evaluate_knn_custom(X, y, k_values, split_ratios)\n",
        "\n",
        "for r in results:\n",
        "    print(f\"K={r[0]}, Split={r[1]}, Acc={r[2]:.2f}, Prec={r[3]:.2f}, Rec={r[4]:.2f}, F1={r[5]:.2f}\")\n"
      ],
      "metadata": {
        "colab": {
          "base_uri": "https://localhost:8080/"
        },
        "id": "YADKI6dvkyuu",
        "outputId": "f1901f0a-179a-4c95-ef2c-9542a1d18bf9"
      },
      "execution_count": 14,
      "outputs": [
        {
          "output_type": "stream",
          "name": "stdout",
          "text": [
            "K=1, Split=0.2, Acc=1.00, Prec=1.00, Rec=1.00, F1=1.00\n",
            "K=3, Split=0.2, Acc=1.00, Prec=1.00, Rec=1.00, F1=1.00\n",
            "K=5, Split=0.2, Acc=1.00, Prec=1.00, Rec=1.00, F1=1.00\n",
            "K=7, Split=0.2, Acc=0.97, Prec=0.97, Rec=0.96, F1=0.97\n",
            "K=1, Split=0.3, Acc=1.00, Prec=1.00, Rec=1.00, F1=1.00\n",
            "K=3, Split=0.3, Acc=1.00, Prec=1.00, Rec=1.00, F1=1.00\n",
            "K=5, Split=0.3, Acc=1.00, Prec=1.00, Rec=1.00, F1=1.00\n",
            "K=7, Split=0.3, Acc=1.00, Prec=1.00, Rec=1.00, F1=1.00\n",
            "K=1, Split=0.4, Acc=0.98, Prec=0.98, Rec=0.98, F1=0.98\n",
            "K=3, Split=0.4, Acc=0.98, Prec=0.98, Rec=0.98, F1=0.98\n",
            "K=5, Split=0.4, Acc=0.98, Prec=0.98, Rec=0.98, F1=0.98\n",
            "K=7, Split=0.4, Acc=0.98, Prec=0.98, Rec=0.98, F1=0.98\n"
          ]
        }
      ]
    },
    {
      "cell_type": "code",
      "source": [
        "from sklearn.neighbors import KNeighborsClassifier\n",
        "\n",
        "def evaluate_sklearn_knn(X_train, X_test, y_train, y_test, k):\n",
        "    model = KNeighborsClassifier(n_neighbors=k)\n",
        "    model.fit(X_train, y_train)\n",
        "    y_pred = model.predict(X_test)\n",
        "    acc = accuracy(y_test, y_pred)\n",
        "    prec, rec, f1 = precision_recall_f1(y_test, y_pred)\n",
        "    return acc, prec, rec, f1\n",
        "\n",
        "# Example comparison using best k=3 and split=0.3\n",
        "X_train, X_test, y_train, y_test = train_test_split(X, y, test_size=0.3, random_state=42)\n",
        "acc, prec, rec, f1 = evaluate_sklearn_knn(X_train, X_test, y_train, y_test, k=3)\n",
        "\n",
        "print(\"Sklearn KNN - Accuracy:\", acc)\n",
        "print(\"Precision:\", prec)\n",
        "print(\"Recall:\", rec)\n",
        "print(\"F1-score:\", f1)\n"
      ],
      "metadata": {
        "colab": {
          "base_uri": "https://localhost:8080/"
        },
        "id": "SEthAg4KlFLT",
        "outputId": "c8285c30-fc01-4fc8-ed58-0fda810eb98a"
      },
      "execution_count": 11,
      "outputs": [
        {
          "output_type": "stream",
          "name": "stdout",
          "text": [
            "Sklearn KNN - Accuracy: 1.0\n",
            "Precision: 0.9999999999931175\n",
            "Recall: 0.9999999999931175\n",
            "F1-score: 0.9999999999431175\n"
          ]
        }
      ]
    }
  ]
}